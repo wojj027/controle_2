{
 "cells": [
  {
   "cell_type": "code",
   "execution_count": 19,
   "id": "7d2d160f",
   "metadata": {},
   "outputs": [],
   "source": [
    "from numpy import linspace, arange, zeros\n",
    "from control import c2d, tf\n",
    "import matplotlib.pyplot as plt\n",
    "import numpy as np\n",
    "import cmath\n",
    "import math\n"
   ]
  },
  {
   "cell_type": "code",
   "execution_count": 155,
   "id": "5a0b1687",
   "metadata": {},
   "outputs": [
    {
     "name": "stdout",
     "output_type": "stream",
     "text": [
      "Gz = \n",
      " \n",
      "  0.1648\n",
      "----------\n",
      "z - 0.6703\n",
      "\n",
      "dt = 0.2\n",
      "\n"
     ]
    }
   ],
   "source": [
    "T = 0.2\n",
    "\n",
    "Gs = tf(1, [1, 2])\n",
    "\n",
    "Gz = c2d(Gs, T)\n",
    "\n",
    "print('Gz = \\n', Gz)"
   ]
  },
  {
   "cell_type": "code",
   "execution_count": 156,
   "id": "4eb37125",
   "metadata": {},
   "outputs": [
    {
     "name": "stdout",
     "output_type": "stream",
     "text": [
      "GHz = \n",
      " \n",
      " 0.01758 z + 0.01539\n",
      "---------------------\n",
      "z^2 - 1.67 z + 0.6703\n",
      "\n",
      "dt = 0.2\n",
      "\n"
     ]
    }
   ],
   "source": [
    "GHs = tf(1,[1,2,0])\n",
    "\n",
    "GHz = c2d(GHs, T)\n",
    "\n",
    "print('GHz = \\n', GHz)"
   ]
  },
  {
   "cell_type": "code",
   "execution_count": 157,
   "id": "2b7d5fa9",
   "metadata": {
    "scrolled": true
   },
   "outputs": [
    {
     "name": "stdout",
     "output_type": "stream",
     "text": [
      "Fz = \n",
      " \n",
      " 0.2\n",
      "-----\n",
      "z - 1\n",
      "\n",
      "dt = 0.2\n",
      "\n"
     ]
    }
   ],
   "source": [
    "Fs = tf(1, [1, 0])\n",
    "\n",
    "Fz = c2d(Fs, T)\n",
    "\n",
    "print('Fz = \\n', Fz)"
   ]
  },
  {
   "cell_type": "code",
   "execution_count": 158,
   "id": "dbbc55be",
   "metadata": {},
   "outputs": [],
   "source": [
    "zeta = 0.6\n",
    "wn = 4"
   ]
  },
  {
   "cell_type": "code",
   "execution_count": 89,
   "id": "e1b58eca",
   "metadata": {},
   "outputs": [
    {
     "name": "stdout",
     "output_type": "stream",
     "text": [
      "0.6400000000000001\n"
     ]
    }
   ],
   "source": [
    "z_ang = T*wn*np.sqrt(1-(zeta**2))\n",
    "print(z_ang)"
   ]
  },
  {
   "cell_type": "code",
   "execution_count": 90,
   "id": "a6a86b72",
   "metadata": {},
   "outputs": [
    {
     "name": "stdout",
     "output_type": "stream",
     "text": [
      "0.6187833918061408\n"
     ]
    }
   ],
   "source": [
    "z_mod = np.exp(-T*zeta*wn)\n",
    "print(z_mod)"
   ]
  },
  {
   "cell_type": "code",
   "execution_count": 91,
   "id": "5ac3050c",
   "metadata": {},
   "outputs": [
    {
     "name": "stdout",
     "output_type": "stream",
     "text": [
      "(0.4963235336169597+0.3695346207773863j)\n"
     ]
    }
   ],
   "source": [
    "z_rect = cmath.rect(z_mod, z_ang)\n",
    "print(z_rect)"
   ]
  },
  {
   "cell_type": "code",
   "execution_count": 92,
   "id": "2a71ac92",
   "metadata": {
    "scrolled": true
   },
   "outputs": [
    {
     "name": "stdout",
     "output_type": "stream",
     "text": [
      "\n",
      "z + 0.6\n",
      "-------\n",
      "   1\n",
      "\n",
      "dt = 0.2\n",
      "\n"
     ]
    }
   ],
   "source": [
    "alpha_tf = tf([1,+0.6],1,T)\n",
    "print(alpha_tf)"
   ]
  },
  {
   "cell_type": "code",
   "execution_count": 144,
   "id": "83ad5b3a",
   "metadata": {
    "scrolled": true
   },
   "outputs": [
    {
     "name": "stdout",
     "output_type": "stream",
     "text": [
      "18.62727009110492\n",
      "-5.168463820607645\n"
     ]
    },
    {
     "data": {
      "text/plain": [
       "'angulo em graus: -296.1311634868787'"
      ]
     },
     "execution_count": 144,
     "metadata": {},
     "output_type": "execute_result"
    }
   ],
   "source": [
    "angle = -np.pi - cmath.phase(GHz(z_rect)) \n",
    "test = cmath.phase(alpha_tf(z_rect))\n",
    "print(math.degrees(test))\n",
    "print(angle)\n",
    "angle_degrees = math.degrees(angle)\n",
    "f'angulo em graus: {angle_degrees}'"
   ]
  },
  {
   "cell_type": "code",
   "execution_count": 154,
   "id": "14f715fa",
   "metadata": {},
   "outputs": [
    {
     "name": "stdout",
     "output_type": "stream",
     "text": [
      "-0.08306705601996578\n"
     ]
    }
   ],
   "source": [
    "alpha = -0.6\n",
    "z1 = z_rect\n",
    "numGHz = GHz.num[0][0];\n",
    "denGHz = GHz.den[0][0];\n",
    "numGc = [1, alpha];\n",
    "phi2 = np.angle(np.polyval(numGHz,z1))+np.angle(np.polyval(numGc,z1))-np.angle(np.polyval(denGHz,z1));\n",
    "phiB = -np.pi-phi2;\n",
    "beta = (np.imag(z1)-np.real(z1)*np.tan(-phiB))/np.tan(-phiB);\n",
    "\n",
    "print(beta)"
   ]
  },
  {
   "cell_type": "code",
   "execution_count": 145,
   "id": "2f4734c8",
   "metadata": {},
   "outputs": [
    {
     "name": "stdout",
     "output_type": "stream",
     "text": [
      "beta formula prof =  -0.1267889128395734\n"
     ]
    }
   ],
   "source": [
    "beta_prof = (z_rect.imag - (z_rect.real*math.tan(angle))/math.tan(angle))\n",
    "print('beta formula prof = ', beta_prof)"
   ]
  },
  {
   "cell_type": "code",
   "execution_count": 146,
   "id": "4247ed4c",
   "metadata": {},
   "outputs": [],
   "source": [
    "#angle = np.pi - cmath.phase(GHz(z_rect)) - cmath.phase(alpha_tf(z_rect))\n",
    "#print(angle)\n",
    "#angle_degrees = math.degrees(angle)\n",
    "#f'angulo em graus: {angle_degrees}'"
   ]
  },
  {
   "cell_type": "code",
   "execution_count": 147,
   "id": "1cb3b469",
   "metadata": {},
   "outputs": [
    {
     "name": "stdout",
     "output_type": "stream",
     "text": [
      "\n",
      " z - 0.6\n",
      "----------\n",
      "z - 0.1268\n",
      "\n",
      "dt = 0.2\n",
      "\n"
     ]
    }
   ],
   "source": [
    "controler = tf([1,-0.6],[1,beta_prof],T)\n",
    "print(controler)"
   ]
  },
  {
   "cell_type": "code",
   "execution_count": 148,
   "id": "c594114b",
   "metadata": {},
   "outputs": [],
   "source": [
    "FTMA = controler * GHz"
   ]
  },
  {
   "cell_type": "code",
   "execution_count": 149,
   "id": "7fcca355",
   "metadata": {},
   "outputs": [
    {
     "name": "stdout",
     "output_type": "stream",
     "text": [
      "13.912201011594394\n"
     ]
    }
   ],
   "source": [
    "Kc = 1/np.abs(FTMA(z_rect))\n",
    "print(Kc)"
   ]
  },
  {
   "cell_type": "code",
   "execution_count": 165,
   "id": "d013cb4a",
   "metadata": {},
   "outputs": [
    {
     "data": {
      "text/plain": [
       "[<matplotlib.lines.Line2D at 0x20a216d77c0>]"
      ]
     },
     "execution_count": 165,
     "metadata": {},
     "output_type": "execute_result"
    },
    {
     "data": {
      "image/png": "[encoded data removed]",
      "text/plain": [
       "<Figure size 432x288 with 1 Axes>"
      ]
     },
     "metadata": {
      "needs_background": "light"
     },
     "output_type": "display_data"
    }
   ],
   "source": [
    "#Equacoes recursivas \n",
    "\n",
    "#G\n",
    "#c[k] = 0.6703*c[k-1] + 0.1648*u[k-1]\n",
    "\n",
    "#GH\n",
    "#v[k] = 1,67*v[k-1] - 0.6703*v[k-2] + 0.01758*u[k-1] + 0.01539*u[k-2]\n",
    "\n",
    "#F\n",
    "#x[k] = x[k-1] + 0.2*r[k-1]\n",
    "\n",
    "#C\n",
    "#u[k] = 14.76*e[k] -8.856*e[k-1] - 0.083*u[k-1]\n",
    "\n",
    "#e = x - v\n",
    "\n",
    "Tf = 5\n",
    "kmax = int(Tf/T)+1\n",
    "\n",
    "t = T*arange(0,kmax)\n",
    "r = np.ones(kmax)\n",
    "\n",
    "c = np.zeros(kmax)\n",
    "v = np.zeros(kmax)\n",
    "x = np.zeros(kmax)\n",
    "e = np.zeros(kmax)\n",
    "u = np.zeros(kmax)\n",
    "\n",
    "k = 1\n",
    "\n",
    "c[k] = 0.6703*c[k-1] + 0.1648*u[k-1]\n",
    "v[k] = 1.67*v[k-1] + 0.01758*u[k-1]\n",
    "x[k] = x[k-1] + 0.2*r[k-1]\n",
    "e[k] = x[k] - v[k]\n",
    "u[k] = 14.76*e[k] -8.856*e[k-1] - 0.083*u[k-1]\n",
    "\n",
    "for k in range(2, kmax):\n",
    "    c[k] = 0.6703*c[k-1] + 0.1648*u[k-1]\n",
    "    v[k] = 1.67*v[k-1] - 0.6703*v[k-2] + 0.01758*u[k-1] + 0.01539*u[k-2]\n",
    "    x[k] = x[k-1] + 0.2*r[k-1]\n",
    "    e[k] = x[k] - v[k]\n",
    "    u[k] = 14.76*e[k] -8.856*e[k-1] - 0.083*u[k-1]\n",
    "    \n",
    "plt.plot(t,c,ds='steps-post')"
   ]
  },
  {
   "cell_type": "code",
   "execution_count": null,
   "id": "a85fac2d",
   "metadata": {},
   "outputs": [],
   "source": []
  }
 ],
 "metadata": {
  "kernelspec": {
   "display_name": "Python 3 (ipykernel)",
   "language": "python",
   "name": "python3"
  },
  "language_info": {
   "codemirror_mode": {
    "name": "ipython",
    "version": 3
   },
   "file_extension": ".py",
   "mimetype": "text/x-python",
   "name": "python",
   "nbconvert_exporter": "python",
   "pygments_lexer": "ipython3",
   "version": "3.9.7"
  }
 },
 "nbformat": 4,
 "nbformat_minor": 5
}
