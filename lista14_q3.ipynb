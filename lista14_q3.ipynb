{
 "cells": [
  {
   "cell_type": "code",
   "execution_count": 1,
   "metadata": {},
   "outputs": [],
   "source": [
    "import numpy as np\n",
    "import matplotlib.pyplot as plt\n",
    "import control\n",
    "import math\n",
    "import cmath"
   ]
  },
  {
   "cell_type": "markdown",
   "metadata": {},
   "source": [
    "Considere o sistema apresentado na Fig. 3, sendo o período de amostragem de 0,15\n",
    "s e a função de transferência discreta do controlador digital é dada por: \n",
    "\n",
    "Gc(z) = Kc * (z - alfa)/(z - beta)\n",
    "\n",
    "Determine os parâmetros de β e Kc do controlador digital de maneira que o sistema\n",
    "apresente polos dominantes de segunda ordem em malha fechada que tenham um fator\n",
    "de amortecimento ζ = 0,6 e uma frequência natural ωn = 5 rad/s. (demonstre, prove\n",
    "matematicamente). Considere que o zero do controlador cancelará o polo da função de\n",
    "transferência da planta que não está em z = 1."
   ]
  },
  {
   "cell_type": "code",
   "execution_count": 2,
   "metadata": {},
   "outputs": [
    {
     "name": "stdout",
     "output_type": "stream",
     "text": [
      "\n",
      "  1\n",
      "-----\n",
      "s + 5\n",
      "\n",
      "\n",
      "  0.1055\n",
      "----------\n",
      "z - 0.4724\n",
      "\n",
      "dt = 0.15\n",
      "\n"
     ]
    }
   ],
   "source": [
    "T= 0.15 #periodo de amostragem\n",
    "\n",
    "G = control.tf([1],[1,5])\n",
    "print(G)\n",
    "Gz = control.c2d(G,T) #passando para o dominio discreto (dominio z)\n",
    "print(Gz)\n"
   ]
  },
  {
   "cell_type": "code",
   "execution_count": 3,
   "metadata": {},
   "outputs": [
    {
     "name": "stdout",
     "output_type": "stream",
     "text": [
      "\n",
      "1\n",
      "-\n",
      "s\n",
      "\n",
      "\n",
      "0.008895 z + 0.006934\n",
      "----------------------\n",
      "z^2 - 1.472 z + 0.4724\n",
      "\n",
      "dt = 0.15\n",
      "\n"
     ]
    }
   ],
   "source": [
    "H = control.tf([1],[1,0])\n",
    "print(H)\n",
    "GH = H * G\n",
    "GHz = control.c2d(GH, T)\n",
    "print(GHz)"
   ]
  },
  {
   "cell_type": "code",
   "execution_count": 12,
   "metadata": {},
   "outputs": [
    {
     "name": "stdout",
     "output_type": "stream",
     "text": [
      "|z1| =  0.6376281516217733\n",
      "z1< =  34.3774677078494\n"
     ]
    }
   ],
   "source": [
    "#para os valores abaixo de zeta e wn abaixo\n",
    "zeta = 0.6\n",
    "wn = 5\n",
    "\n",
    "#calcular o valor do polo z1 desejado utilizando o zeta e wn informados\n",
    "z1_mod = math.e**(-T *zeta*wn)\n",
    "print(\"|z1| = \", z1_mod)\n",
    "z1_ang = T*wn*np.sqrt(1-(zeta**2))\n",
    "z1_ang_deg = math.degrees(z1_ang)\n",
    "print(\"z1< = \", z1_ang_deg)"
   ]
  },
  {
   "cell_type": "code",
   "execution_count": 9,
   "metadata": {},
   "outputs": [
    {
     "name": "stdout",
     "output_type": "stream",
     "text": [
      "(0.5262572226024779+0.3600319366380228j)\n"
     ]
    }
   ],
   "source": [
    "z_rect = cmath.rect(z1_mod, z1_ang)\n",
    "print(z_rect)"
   ]
  },
  {
   "cell_type": "code",
   "execution_count": 14,
   "metadata": {},
   "outputs": [
    {
     "name": "stdout",
     "output_type": "stream",
     "text": [
      "28.83938481284644\n"
     ]
    }
   ],
   "source": [
    "#Para o sistema ser estavel estável precisamos que a soma dos angulos seja mais ou menos igual a 180 graus.\n",
    "angle = np.pi - cmath.phase(GHz(z_rect))\n",
    "print(math.degrees(angle)) #angulo do controlador "
   ]
  },
  {
   "cell_type": "code",
   "execution_count": 17,
   "metadata": {},
   "outputs": [
    {
     "name": "stdout",
     "output_type": "stream",
     "text": [
      "-1.1800878721809764\n"
     ]
    }
   ],
   "source": [
    "beta = (z_rect.imag / math.tan(-angle)) - z_rect.real #formula pra quando eh (z+beta)\n",
    "print(beta)"
   ]
  },
  {
   "cell_type": "code",
   "execution_count": 20,
   "metadata": {},
   "outputs": [
    {
     "name": "stdout",
     "output_type": "stream",
     "text": [
      "\n",
      "z - 0.4724\n",
      "----------\n",
      " z - 1.18\n",
      "\n",
      "dt = 0.15\n",
      "\n"
     ]
    }
   ],
   "source": [
    "controler = control.tf([1,-0.4724],[1,+beta],T) #calculo do controlador. O valor do numerador é [z,alfa], sendo alfa o valor que cancela o polo do numerador.\n",
    "print(controler)"
   ]
  },
  {
   "cell_type": "code",
   "execution_count": 21,
   "metadata": {},
   "outputs": [],
   "source": [
    "FTMA = controler * GHz "
   ]
  },
  {
   "cell_type": "code",
   "execution_count": 23,
   "metadata": {},
   "outputs": [
    {
     "name": "stdout",
     "output_type": "stream",
     "text": [
      "36.86197673135336\n"
     ]
    }
   ],
   "source": [
    "Kc = 1/np.abs(FTMA(z_rect))\n",
    "print(Kc)"
   ]
  },
  {
   "cell_type": "code",
   "execution_count": 26,
   "metadata": {},
   "outputs": [],
   "source": [
    "Output = controler * Kc * GHz"
   ]
  },
  {
   "cell_type": "code",
   "execution_count": 27,
   "metadata": {},
   "outputs": [
    {
     "name": "stdout",
     "output_type": "stream",
     "text": [
      "\n",
      " 0.3279 z^2 + 0.1007 z - 0.1208\n",
      "---------------------------------\n",
      "z^3 - 2.652 z^2 + 2.21 z - 0.5574\n",
      "\n",
      "dt = 0.15\n",
      "\n"
     ]
    }
   ],
   "source": [
    "print(Output)"
   ]
  }
 ],
 "metadata": {
  "kernelspec": {
   "display_name": "Python 3.9.7 ('base')",
   "language": "python",
   "name": "python3"
  },
  "language_info": {
   "codemirror_mode": {
    "name": "ipython",
    "version": 3
   },
   "file_extension": ".py",
   "mimetype": "text/x-python",
   "name": "python",
   "nbconvert_exporter": "python",
   "pygments_lexer": "ipython3",
   "version": "3.9.7"
  },
  "orig_nbformat": 4,
  "vscode": {
   "interpreter": {
    "hash": "ad2bdc8ecc057115af97d19610ffacc2b4e99fae6737bb82f5d7fb13d2f2c186"
   }
  }
 },
 "nbformat": 4,
 "nbformat_minor": 2
}
