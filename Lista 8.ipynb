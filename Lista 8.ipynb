{
 "cells": [
  {
   "cell_type": "code",
   "execution_count": 12,
   "id": "7d2d160f",
   "metadata": {
    "scrolled": true
   },
   "outputs": [],
   "source": [
    "from numpy import linspace, arange, zeros\n",
    "from control import c2d, tf\n",
    "import matplotlib.pyplot as plt\n",
    "import numpy as np\n",
    "import cmath\n",
    "import math\n",
    "import control\n",
    "import control.matlab\n",
    "from sympy import *\n",
    "#from lcapy import z, n"
   ]
  },
  {
   "cell_type": "markdown",
   "id": "b2bf2339",
   "metadata": {},
   "source": [
    "### Questao 1"
   ]
  },
  {
   "cell_type": "code",
   "execution_count": 2,
   "id": "5a0b1687",
   "metadata": {
    "scrolled": false
   },
   "outputs": [
    {
     "name": "stdout",
     "output_type": "stream",
     "text": [
      "Gz = \n",
      " \n",
      "  0.1648\n",
      "----------\n",
      "z - 0.6703\n",
      "\n",
      "dt = 0.2\n",
      "\n"
     ]
    }
   ],
   "source": [
    "T = 0.2\n",
    "\n",
    "Gs = tf([1], [1, 2])\n",
    "\n",
    "Gz = c2d(Gs, T)\n",
    "\n",
    "print('Gz = \\n', Gz)"
   ]
  },
  {
   "cell_type": "code",
   "execution_count": 5,
   "id": "a0ca8b6f",
   "metadata": {},
   "outputs": [
    {
     "name": "stdout",
     "output_type": "stream",
     "text": [
      "\n",
      "  1\n",
      "-----\n",
      "s + 5\n",
      "\n"
     ]
    }
   ],
   "source": [
    "As = tf([1],[1,5])\n",
    "print(As)\n",
    "Bs = 5"
   ]
  },
  {
   "cell_type": "code",
   "execution_count": 7,
   "id": "1a1f22eb",
   "metadata": {},
   "outputs": [
    {
     "name": "stdout",
     "output_type": "stream",
     "text": [
      "\n",
      "5 s + 26\n",
      "--------\n",
      " s + 5\n",
      "\n"
     ]
    }
   ],
   "source": [
    "ABs = control.parallel(As,Bs)\n",
    "print(ABs)"
   ]
  },
  {
   "cell_type": "code",
   "execution_count": 9,
   "id": "efdc3f28",
   "metadata": {},
   "outputs": [
    {
     "name": "stdout",
     "output_type": "stream",
     "text": [
      "GHs = \n",
      "   5 s + 26\n",
      "--------------\n",
      "s^2 + 7 s + 10\n",
      "\n",
      "GHz = \n",
      "   0.837 z - 0.2952\n",
      "----------------------\n",
      "z^2 - 1.038 z + 0.2466\n",
      "\n",
      "dt = 0.2\n",
      "\n"
     ]
    }
   ],
   "source": [
    "GHs = Gs * ABs\n",
    "print(f'GHs = {GHs}')\n",
    "\n",
    "GHz = c2d(GHs, T)\n",
    "print(f'GHz = {GHz}')"
   ]
  },
  {
   "cell_type": "code",
   "execution_count": 10,
   "id": "2b7d5fa9",
   "metadata": {
    "scrolled": true
   },
   "outputs": [
    {
     "name": "stdout",
     "output_type": "stream",
     "text": [
      "Fz = \n",
      " \n",
      "  0.6883\n",
      "----------\n",
      "z - 0.4493\n",
      "\n",
      "dt = 0.2\n",
      "\n"
     ]
    }
   ],
   "source": [
    "Fs = tf([5],[1, 4])\n",
    "\n",
    "Fz = c2d(Fs, T)\n",
    "\n",
    "print('Fz = \\n', Fz)"
   ]
  },
  {
   "cell_type": "markdown",
   "id": "915b6f5b",
   "metadata": {},
   "source": [
    "## Bloco das equacoes recursivas"
   ]
  },
  {
   "cell_type": "code",
   "execution_count": 11,
   "id": "f4a76e81",
   "metadata": {
    "scrolled": true
   },
   "outputs": [
    {
     "data": {
      "text/plain": [
       "[<matplotlib.lines.Line2D at 0x7f0da7162190>]"
      ]
     },
     "execution_count": 11,
     "metadata": {},
     "output_type": "execute_result"
    },
    {
     "data": {
      "image/png": "[encoded data removed]",
      "text/plain": [
       "<Figure size 640x480 with 1 Axes>"
      ]
     },
     "metadata": {},
     "output_type": "display_data"
    }
   ],
   "source": [
    "#Equacoes recursivas \n",
    "\n",
    "#G\n",
    "#c[k] = 0.1648*e[k-1] + 0.6703*c[k-1]\n",
    "\n",
    "#GH\n",
    "#v[k] = 0.837*e[k-1] - 0.2952*e[k-2] + 1.038*v[k-1] - 0.2466*v[k-2]\n",
    "\n",
    "#F\n",
    "#x[k] =  0.6883*r[k-1] + 0.4493*x[k-1]\n",
    "\n",
    "#e = x - v\n",
    "\n",
    "kmax = 50\n",
    "\n",
    "# Para entrada degrau unitario: np.ones(kmax)\n",
    "# Para entrada rampa unitario: T*arange(0,kmax) \n",
    "t = T*arange(0,kmax)\n",
    "r = np.ones(kmax)\n",
    "\n",
    "c = np.zeros(kmax)\n",
    "v = np.zeros(kmax)\n",
    "x = np.zeros(kmax)\n",
    "e = np.zeros(kmax)\n",
    "\n",
    "k = 1\n",
    "\n",
    "v[k] = 0.837*e[k-1] + 1.038*v[k-1] \n",
    "x[k] = 0.6883*r[k-1] + 0.4493*x[k-1]\n",
    "e[k] = x[k] - v[k]\n",
    "c[k] = 0.1648*e[k-1] + 0.6703*c[k-1]\n",
    "\n",
    "\n",
    "for k in range(2, kmax):\n",
    "    v[k] = 0.837*e[k-1] - 0.2952*e[k-2] + 1.038*v[k-1] - 0.2466*v[k-2]\n",
    "    x[k] = 0.6883*r[k-1] + 0.4493*x[k-1]\n",
    "    e[k] = x[k] - v[k]\n",
    "    c[k] = 0.1648*e[k-1] + 0.6703*c[k-1]\n",
    "    \n",
    "    \n",
    "    \n",
    "# para mostrar por steps\n",
    "plt.plot(t,c, ds='steps-post')\n",
    "\n",
    "#para mostrar em tempo continuo\n",
    "#plt.plot(t,c)\n"
   ]
  },
  {
   "cell_type": "markdown",
   "id": "9e3a0a9b",
   "metadata": {},
   "source": [
    "Calculo do erro em regime permanente"
   ]
  },
  {
   "cell_type": "code",
   "execution_count": null,
   "id": "dbc1ba84",
   "metadata": {},
   "outputs": [],
   "source": [
    "0.837 z - 0.2952\n",
    "----------------------\n",
    "z^2 - 1.038 z + 0.2466"
   ]
  },
  {
   "cell_type": "code",
   "execution_count": 29,
   "id": "356dde9a",
   "metadata": {},
   "outputs": [
    {
     "data": {
      "text/latex": [
       "$$\\frac{0.6883}{z - 0.4493}\\quad dt = 0.2$$"
      ],
      "text/plain": [
       "TransferFunction(array([0.68833879]), array([ 1.        , -0.44932896]), 0.2)"
      ]
     },
     "execution_count": 29,
     "metadata": {},
     "output_type": "execute_result"
    }
   ],
   "source": [
    "Fz"
   ]
  },
  {
   "cell_type": "code",
   "execution_count": 31,
   "id": "6a15188e",
   "metadata": {},
   "outputs": [
    {
     "data": {
      "text/latex": [
       "$\\displaystyle \\frac{0.6883}{z - 0.4493}$"
      ],
      "text/plain": [
       "0.6883/(z - 0.4493)"
      ]
     },
     "execution_count": 31,
     "metadata": {},
     "output_type": "execute_result"
    }
   ],
   "source": [
    "f = 0.6883/(z-0.4493)\n",
    "f"
   ]
  },
  {
   "cell_type": "code",
   "execution_count": 17,
   "id": "41d02b43",
   "metadata": {},
   "outputs": [
    {
     "data": {
      "text/latex": [
       "$\\displaystyle \\frac{0.837 z - 0.2952}{z^{2} - 1.038 z + 0.2466}$"
      ],
      "text/plain": [
       "(0.837*z - 0.2952)/(z**2 - 1.038*z + 0.2466)"
      ]
     },
     "execution_count": 17,
     "metadata": {},
     "output_type": "execute_result"
    }
   ],
   "source": [
    "function"
   ]
  },
  {
   "cell_type": "code",
   "execution_count": 33,
   "id": "58b33bf6",
   "metadata": {},
   "outputs": [
    {
     "name": "stdout",
     "output_type": "stream",
     "text": [
      "1025567/2951752\n"
     ]
    }
   ],
   "source": [
    "ess = limit(f/(1+function),z,1)\n",
    "print(ess)"
   ]
  },
  {
   "cell_type": "code",
   "execution_count": 35,
   "id": "4aed904e",
   "metadata": {},
   "outputs": [
    {
     "name": "stdout",
     "output_type": "stream",
     "text": [
      "0.3474434844119696\n"
     ]
    }
   ],
   "source": [
    "test = 1025567/2951752\n",
    "print(test)"
   ]
  },
  {
   "cell_type": "code",
   "execution_count": 15,
   "id": "5f3df432",
   "metadata": {
    "scrolled": true
   },
   "outputs": [
    {
     "name": "stdout",
     "output_type": "stream",
     "text": [
      "149/536\n"
     ]
    }
   ],
   "source": [
    "z = Symbol('z')\n",
    "function = (0.837*z - 0.2952) /(z**2 - 1.038*z + 0.2466)\n",
    "\n",
    "error = 1/(1 + limit(function,z,1))\n",
    "print(error)"
   ]
  },
  {
   "cell_type": "code",
   "execution_count": 53,
   "id": "c33af6ff",
   "metadata": {},
   "outputs": [
    {
     "data": {
      "text/plain": [
       "(0.34722222222222215+0j)"
      ]
     },
     "execution_count": 53,
     "metadata": {},
     "output_type": "execute_result"
    }
   ],
   "source": [
    "K = GHz(1)\n",
    "ess = Fz(1)/(1+K)\n",
    "ess\n"
   ]
  },
  {
   "cell_type": "code",
   "execution_count": null,
   "id": "6d96551a",
   "metadata": {},
   "outputs": [],
   "source": [
    "f = "
   ]
  },
  {
   "cell_type": "code",
   "execution_count": 28,
   "id": "a31d93c7",
   "metadata": {
    "scrolled": true
   },
   "outputs": [
    {
     "name": "stdout",
     "output_type": "stream",
     "text": [
      "1 states have been removed from the model\n"
     ]
    },
    {
     "data": {
      "text/plain": [
       "[<matplotlib.lines.Line2D at 0x7f0da15b3d60>]"
      ]
     },
     "execution_count": 28,
     "metadata": {},
     "output_type": "execute_result"
    },
    {
     "data": {
      "image/png": "[encoded data removed]",
      "text/plain": [
       "<Figure size 640x480 with 1 Axes>"
      ]
     },
     "metadata": {},
     "output_type": "display_data"
    }
   ],
   "source": [
    "FTMF = control.minreal((Gz/(1+GHz))*Fz)\n",
    "xf, yf = control.step_response(FTMF, t)\n",
    "plt.title(\"Resposta ao degrau do sistema\")\n",
    "plt.grid()\n",
    "plt.plot(xf,yf)"
   ]
  },
  {
   "cell_type": "code",
   "execution_count": 21,
   "id": "bfd94e0f",
   "metadata": {},
   "outputs": [
    {
     "data": {
      "text/plain": [
       "[<matplotlib.lines.Line2D at 0x7f0da198bf70>]"
      ]
     },
     "execution_count": 21,
     "metadata": {},
     "output_type": "execute_result"
    },
    {
     "data": {
      "image/png": "[encoded data removed]",
      "text/plain": [
       "<Figure size 640x480 with 1 Axes>"
      ]
     },
     "metadata": {},
     "output_type": "display_data"
    }
   ],
   "source": [
    "plt.plot(t,y, ds='steps-post')"
   ]
  },
  {
   "cell_type": "code",
   "execution_count": 16,
   "id": "77ca666e",
   "metadata": {},
   "outputs": [
    {
     "data": {
      "text/plain": [
       "0.27798507462686567"
      ]
     },
     "execution_count": 16,
     "metadata": {},
     "output_type": "execute_result"
    }
   ],
   "source": [
    "149/536"
   ]
  },
  {
   "cell_type": "code",
   "execution_count": 10,
   "id": "45be8eec",
   "metadata": {
    "scrolled": true
   },
   "outputs": [
    {
     "data": {
      "text/latex": [
       "$$\\frac{0.5742 z - 0.3581}{z^2 - 1.135 z + 0.1353}\\quad dt = 0.5$$"
      ],
      "text/plain": [
       "TransferFunction(array([ 0.57424927, -0.35808309]), array([ 1.        , -1.13533528,  0.13533528]), 0.5)"
      ]
     },
     "execution_count": 10,
     "metadata": {},
     "output_type": "execute_result"
    }
   ],
   "source": [
    "GHz"
   ]
  },
  {
   "cell_type": "code",
   "execution_count": 11,
   "id": "d3fc6f22",
   "metadata": {
    "scrolled": false
   },
   "outputs": [
    {
     "data": {
      "text/latex": [
       "$$\\frac{2.5}{z - 1}\\quad dt = 0.5$$"
      ],
      "text/plain": [
       "TransferFunction(array([2.5]), array([ 1., -1.]), 0.5)"
      ]
     },
     "execution_count": 11,
     "metadata": {},
     "output_type": "execute_result"
    }
   ],
   "source": [
    "Fz"
   ]
  },
  {
   "cell_type": "code",
   "execution_count": 12,
   "id": "47d07add",
   "metadata": {
    "scrolled": true
   },
   "outputs": [
    {
     "name": "stdout",
     "output_type": "stream",
     "text": [
      "0 states have been removed from the model\n"
     ]
    }
   ],
   "source": [
    "FTMF = control.minreal(Fz*GHz)"
   ]
  },
  {
   "cell_type": "code",
   "execution_count": 13,
   "id": "31d39020",
   "metadata": {
    "scrolled": false
   },
   "outputs": [
    {
     "data": {
      "text/latex": [
       "$$\\frac{1.436 z - 0.8952}{z^3 - 2.135 z^2 + 1.271 z - 0.1353}\\quad dt = 0.5$$"
      ],
      "text/plain": [
       "TransferFunction(array([ 1.43562317, -0.89520772]), array([ 1.        , -2.13533528,  1.27067057, -0.13533528]), 0.5)"
      ]
     },
     "execution_count": 13,
     "metadata": {},
     "output_type": "execute_result"
    }
   ],
   "source": [
    "FTMF"
   ]
  },
  {
   "cell_type": "code",
   "execution_count": 18,
   "id": "aaca4f93",
   "metadata": {
    "scrolled": true
   },
   "outputs": [],
   "source": [
    "Rz = tf([1,0], [1, -1],T)"
   ]
  },
  {
   "cell_type": "code",
   "execution_count": 19,
   "id": "8db281a1",
   "metadata": {
    "scrolled": true
   },
   "outputs": [
    {
     "data": {
      "text/latex": [
       "$$\\frac{z}{z - 1}\\quad dt = 0.5$$"
      ],
      "text/plain": [
       "TransferFunction(array([1, 0]), array([ 1, -1]), 0.5)"
      ]
     },
     "execution_count": 19,
     "metadata": {},
     "output_type": "execute_result"
    }
   ],
   "source": [
    "Rz"
   ]
  },
  {
   "cell_type": "code",
   "execution_count": 20,
   "id": "0d728920",
   "metadata": {
    "scrolled": false
   },
   "outputs": [
    {
     "name": "stdout",
     "output_type": "stream",
     "text": [
      "0 states have been removed from the model\n"
     ]
    }
   ],
   "source": [
    "cz = control.minreal(Rz*GHz)"
   ]
  },
  {
   "cell_type": "code",
   "execution_count": 24,
   "id": "2ade0cec",
   "metadata": {
    "scrolled": true
   },
   "outputs": [
    {
     "data": {
      "text/latex": [
       "$$\\frac{0.5742 z^2 - 0.3581 z}{z^3 - 2.135 z^2 + 1.271 z - 0.1353}\\quad dt = 0.5$$"
      ],
      "text/plain": [
       "TransferFunction(array([ 0.57424927, -0.35808309,  0.        ]), array([ 1.        , -2.13533528,  1.27067057, -0.13533528]), 0.5)"
      ]
     },
     "execution_count": 24,
     "metadata": {},
     "output_type": "execute_result"
    }
   ],
   "source": [
    "cz"
   ]
  },
  {
   "cell_type": "code",
   "execution_count": 30,
   "id": "ad20b6c5",
   "metadata": {
    "scrolled": true
   },
   "outputs": [],
   "source": [
    "function = (0.5742*z**2 - 0.3581*z)/(z**3 - 2.135*z**2+1.271*z-0.1353)"
   ]
  },
  {
   "cell_type": "code",
   "execution_count": 36,
   "id": "ac5913a5",
   "metadata": {
    "scrolled": true
   },
   "outputs": [],
   "source": [
    "result = function.partfrac()"
   ]
  },
  {
   "cell_type": "code",
   "execution_count": null,
   "id": "cca2fd43",
   "metadata": {
    "scrolled": false
   },
   "outputs": [],
   "source": [
    "result"
   ]
  },
  {
   "cell_type": "code",
   "execution_count": 31,
   "id": "3dca6d86",
   "metadata": {
    "scrolled": true
   },
   "outputs": [
    {
     "data": {
      "text/plain": [
       "lcapy.zexpr.ZDomainExpression"
      ]
     },
     "execution_count": 31,
     "metadata": {},
     "output_type": "execute_result"
    }
   ],
   "source": [
    "type(function)"
   ]
  },
  {
   "cell_type": "code",
   "execution_count": 34,
   "id": "22b19a82",
   "metadata": {
    "scrolled": true
   },
   "outputs": [],
   "source": [
    "result = function(n,causal=True)"
   ]
  },
  {
   "cell_type": "code",
   "execution_count": null,
   "id": "fda4285a",
   "metadata": {
    "scrolled": false
   },
   "outputs": [],
   "source": [
    "result"
   ]
  },
  {
   "cell_type": "markdown",
   "id": "692d428d",
   "metadata": {},
   "source": [
    "No fim o calculo do erro não deu certo...pau no cu do Flábio"
   ]
  },
  {
   "cell_type": "markdown",
   "id": "ff5de4df",
   "metadata": {},
   "source": [
    "### Questao 2"
   ]
  },
  {
   "cell_type": "code",
   "execution_count": 41,
   "id": "dbbc55be",
   "metadata": {
    "scrolled": true
   },
   "outputs": [
    {
     "name": "stdout",
     "output_type": "stream",
     "text": [
      "Z na forma retangular: (0.4+0.3j)\n"
     ]
    }
   ],
   "source": [
    "#Parametros de entrada\n",
    "T = 0.5\n",
    "\n",
    "z_rect = 0.4 + 0.3*1j\n",
    "\n",
    "print(f'Z na forma retangular: {z_rect}')"
   ]
  },
  {
   "cell_type": "code",
   "execution_count": 67,
   "id": "1cb3b469",
   "metadata": {
    "scrolled": true
   },
   "outputs": [
    {
     "name": "stdout",
     "output_type": "stream",
     "text": [
      "\n",
      "  0.2\n",
      "-------\n",
      "z - 0.6\n",
      "\n",
      "dt = 0.5\n",
      "\n",
      "\n",
      "  z\n",
      "-----\n",
      "z - 1\n",
      "\n",
      "dt = 0.5\n",
      "\n",
      "\n",
      "z - 0.6\n",
      "--------\n",
      "z - 0.25\n",
      "\n",
      "dt = 0.5\n",
      "\n"
     ]
    }
   ],
   "source": [
    "G1z = tf([0.2], [1,-0.6],T)\n",
    "print(G1z)\n",
    "Hz = tf([1,0], [1,-1],T)\n",
    "print(Hz)\n",
    "Gc = tf([1,-0.6], [1,-0.25],T)\n",
    "print(Gc)"
   ]
  },
  {
   "cell_type": "code",
   "execution_count": 68,
   "id": "c594114b",
   "metadata": {
    "scrolled": true
   },
   "outputs": [
    {
     "name": "stdout",
     "output_type": "stream",
     "text": [
      "3 states have been removed from the model\n",
      "1 states have been removed from the model\n",
      "\n",
      "       0.2 z\n",
      "-------------------\n",
      "z^2 - 1.25 z + 0.25\n",
      "\n",
      "dt = 0.5\n",
      "\n"
     ]
    }
   ],
   "source": [
    "FTMF = control.minreal((Gc*G1z)/(1+(Gc*G1z*Hz)))\n",
    "FTMA = control.minreal(Gc*G1z*Hz)\n",
    "print(FTMA)"
   ]
  },
  {
   "cell_type": "code",
   "execution_count": 69,
   "id": "7fcca355",
   "metadata": {
    "scrolled": true
   },
   "outputs": [
    {
     "name": "stdout",
     "output_type": "stream",
     "text": [
      "2.2500000000000018\n"
     ]
    }
   ],
   "source": [
    "Kc = 1/np.abs(FTMA(z_rect))\n",
    "print(Kc)"
   ]
  },
  {
   "cell_type": "code",
   "execution_count": 70,
   "id": "a85fac2d",
   "metadata": {
    "scrolled": true
   },
   "outputs": [
    {
     "name": "stdout",
     "output_type": "stream",
     "text": [
      "Resultados finais: \n",
      "\n",
      "Kc = 2.2500000000000018\n",
      "Alpha = -0.6\n",
      "Beta2 = beta\n"
     ]
    }
   ],
   "source": [
    "# Resultados finais\n",
    "print('Resultados finais: \\n')\n",
    "print(f'Kc = {Kc}')\n",
    "print(f'Alpha = {alpha}')\n",
    "print(f'Beta2 = {beta}')"
   ]
  },
  {
   "cell_type": "code",
   "execution_count": 71,
   "id": "158b651e",
   "metadata": {},
   "outputs": [
    {
     "name": "stdout",
     "output_type": "stream",
     "text": [
      "(0.7328649544863685-0j)\n"
     ]
    }
   ],
   "source": [
    "zeta = (1+(cmath.log(np.abs(z_rect))/cmath.phase(z_rect))**(-2))**(-1/2)\n",
    "print(zeta)"
   ]
  },
  {
   "cell_type": "markdown",
   "id": "ca852e1f",
   "metadata": {},
   "source": [
    "tendo o zeta podemos calcular o Wn facilmente (mas não foi feito LOL)"
   ]
  },
  {
   "cell_type": "code",
   "execution_count": 72,
   "id": "ddc9c356",
   "metadata": {
    "scrolled": true
   },
   "outputs": [
    {
     "data": {
      "image/png": "[encoded data removed]",
      "text/plain": [
       "<Figure size 640x480 with 1 Axes>"
      ]
     },
     "metadata": {},
     "output_type": "display_data"
    }
   ],
   "source": [
    "#Para calcular o lugar das raizes (rlocus) passamos na entrada a FTMA e o ganho Kc\n",
    "control.root_locus(FTMA)\n",
    "plt.plot(z_rect.real, z_rect.imag, 'xr')\n",
    "plt.xlim(-1,1)\n",
    "plt.ylim(-1.6,1.6)\n",
    "plt.show()\n"
   ]
  },
  {
   "cell_type": "code",
   "execution_count": 73,
   "id": "266d4cf6",
   "metadata": {},
   "outputs": [
    {
     "data": {
      "text/plain": [
       "array([1.  +0.j, 0.25+0.j])"
      ]
     },
     "execution_count": 73,
     "metadata": {},
     "output_type": "execute_result"
    }
   ],
   "source": [
    "FTMA.poles()"
   ]
  },
  {
   "cell_type": "code",
   "execution_count": null,
   "id": "ff96238c",
   "metadata": {
    "scrolled": true
   },
   "outputs": [],
   "source": [
    "G"
   ]
  }
 ],
 "metadata": {
  "kernelspec": {
   "display_name": "Python 3 (ipykernel)",
   "language": "python",
   "name": "python3"
  },
  "language_info": {
   "codemirror_mode": {
    "name": "ipython",
    "version": 3
   },
   "file_extension": ".py",
   "mimetype": "text/x-python",
   "name": "python",
   "nbconvert_exporter": "python",
   "pygments_lexer": "ipython3",
   "version": "3.8.10"
  }
 },
 "nbformat": 4,
 "nbformat_minor": 5
}
