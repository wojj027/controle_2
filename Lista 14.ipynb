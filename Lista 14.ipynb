{
 "cells": [
  {
   "cell_type": "code",
   "execution_count": 1,
   "id": "6fd9773e-316c-484e-8fc0-9fad54018b86",
   "metadata": {},
   "outputs": [],
   "source": [
    "from numpy import linspace, arange, zeros\n",
    "from control import c2d, tf\n",
    "import matplotlib.pyplot as plt"
   ]
  },
  {
   "cell_type": "code",
   "execution_count": 2,
   "id": "46dbc694-2bbe-4592-8ac1-ef76eaa3196d",
   "metadata": {},
   "outputs": [
    {
     "data": {
      "text/latex": [
       "$$\\frac{0.1393}{z - 0.8607}\\quad dt = 0.15$$"
      ],
      "text/plain": [
       "TransferFunction(array([0.13929202]), array([ 1.        , -0.86070798]), 0.15)"
      ]
     },
     "execution_count": 2,
     "metadata": {},
     "output_type": "execute_result"
    }
   ],
   "source": [
    "T = 0.15\n",
    "Gs = tf(1, [1, 1])\n",
    "\n",
    "Gz = c2d(Gs, T)\n",
    "\n",
    "Gz"
   ]
  },
  {
   "cell_type": "code",
   "execution_count": 3,
   "id": "bcb70ab6-de6f-4d2f-a408-8b3ba1f01669",
   "metadata": {},
   "outputs": [
    {
     "data": {
      "text/latex": [
       "$$\\frac{0.01071 z + 0.01019}{z^2 - 1.861 z + 0.8607}\\quad dt = 0.15$$"
      ],
      "text/plain": [
       "TransferFunction(array([0.01070798, 0.01018583]), array([ 1.        , -1.86070798,  0.86070798]), 0.15)"
      ]
     },
     "execution_count": 3,
     "metadata": {},
     "output_type": "execute_result"
    }
   ],
   "source": [
    "Hs = tf([1],[1, 0])\n",
    "GHs = Gs*Hs\n",
    "\n",
    "GHz = c2d(GHs, T)\n",
    "\n",
    "GHz"
   ]
  },
  {
   "cell_type": "code",
   "execution_count": 4,
   "id": "7d9f138f-3ffb-4860-bc1f-13820220d721",
   "metadata": {},
   "outputs": [
    {
     "data": {
      "text/latex": [
       "$$\\frac{5.175 z - 4.455}{z - 0.5388}\\quad dt = 0.15$$"
      ],
      "text/plain": [
       "TransferFunction(array([ 5.175, -4.455]), array([ 1.    , -0.5388]), 0.15)"
      ]
     },
     "execution_count": 4,
     "metadata": {},
     "output_type": "execute_result"
    }
   ],
   "source": [
    "Cs = tf([5.175, -4.455],[1, -0.5388], T)\n",
    "\n",
    "Cs"
   ]
  },
  {
   "cell_type": "code",
   "execution_count": 5,
   "id": "f2d02b76-55f1-4ba7-889b-81745f2ae3af",
   "metadata": {},
   "outputs": [
    {
     "data": {
      "text/plain": [
       "[<matplotlib.lines.Line2D at 0x279ceaca580>]"
      ]
     },
     "execution_count": 5,
     "metadata": {},
     "output_type": "execute_result"
    },
    {
     "data": {
      "image/png": "[encoded data removed]",
      "text/plain": [
       "<Figure size 432x288 with 1 Axes>"
      ]
     },
     "metadata": {
      "needs_background": "light"
     },
     "output_type": "display_data"
    }
   ],
   "source": [
    "# C:\n",
    "#e[k] = r[k] - v[k]\n",
    "#u[k] = 5.175*e[k] - 4.455*e[k-1] + 0.5388*u[k-1]\n",
    "\n",
    "#G:\n",
    "#c[k] = 0.1393*u[k-1] + 0.8607c[k-1]\n",
    "\n",
    "#GH:\n",
    "#v[k] = 0.01071*u[k1] + 1.861*v[k-1] + 0.01019*u[k-2] - 0.8607*v[k-2]\n",
    "\n",
    "Tf = 5\n",
    "kmax = int(5/T)+1\n",
    "t = T*arange(0, kmax)\n",
    "r = T*arange(0, kmax)\n",
    "\n",
    "u = zeros(kmax)\n",
    "c = zeros(kmax)\n",
    "v = zeros(kmax)\n",
    "e = r - v\n",
    "\n",
    "v[1] = 0.01071*u[0] + 1.861*v[0]\n",
    "e[1] = r[1] - v[1]\n",
    "u[1] = 5.175*e[1] - 4.455*e[0] + 0.5388*u[0]\n",
    "c[1] = 0.1393*u[0] + 0.8607*c[0]\n",
    "\n",
    "for k in range(2, kmax):\n",
    "    v[k] = 0.01071*u[k-1] + 1.861*v[k-1] + 0.01019*u[k-2] - 0.8607*v[k-2]\n",
    "    e[k] = r[k] - v[k]\n",
    "    u[k] = 5.175*e[k] - 4.455*e[k-1] + 0.5388*u[k-1]\n",
    "    c[k] = 0.1393*u[k-1] + 0.8607*c[k-1]\n",
    "    \n",
    "plt.plot(t, c)"
   ]
  },
  {
   "cell_type": "code",
   "execution_count": 23,
   "id": "75e3ab74-86a1-449a-a2e7-d088f7067441",
   "metadata": {},
   "outputs": [
    {
     "data": {
      "text/latex": [
       "$$\\frac{0.1813}{z - 0.8187}\\quad dt = 0.2$$"
      ],
      "text/plain": [
       "TransferFunction(array([0.1813]), array([ 1.    , -0.8187]), 0.2)"
      ]
     },
     "execution_count": 23,
     "metadata": {},
     "output_type": "execute_result"
    }
   ],
   "source": [
    "T=.2\n",
    "\n",
    "Cz = tf(0.1813, [1, -0.8187], T)\n",
    "Cz"
   ]
  },
  {
   "cell_type": "code",
   "execution_count": 25,
   "id": "e947fd2e-f8dd-4736-8d65-d0c1845ff522",
   "metadata": {},
   "outputs": [
    {
     "data": {
      "text/latex": [
       "$$\\frac{0.1264}{z - 0.3679}\\quad dt = 0.2$$"
      ],
      "text/plain": [
       "TransferFunction(array([0.12642411]), array([ 1.        , -0.36787944]), 0.2)"
      ]
     },
     "execution_count": 25,
     "metadata": {},
     "output_type": "execute_result"
    }
   ],
   "source": [
    "Gs = tf(1, [1, 5])\n",
    "Gz = c2d(Gs, T)\n",
    "Gz"
   ]
  },
  {
   "cell_type": "code",
   "execution_count": 30,
   "id": "695d4be1-968b-4275-8848-09dfb7f47ff6",
   "metadata": {},
   "outputs": [
    {
     "data": {
      "text/plain": [
       "(0.8333333333333334+0j)"
      ]
     },
     "execution_count": 30,
     "metadata": {},
     "output_type": "execute_result"
    }
   ],
   "source": [
    "GH = Cz*Gz\n",
    "\n",
    "K = GH(1)\n",
    "ess = 1/(1+K)\n",
    "ess"
   ]
  },
  {
   "cell_type": "code",
   "execution_count": null,
   "id": "5e308c74-7ac7-44a5-a9be-7cf3db2ed64d",
   "metadata": {},
   "outputs": [],
   "source": []
  }
 ],
 "metadata": {
  "kernelspec": {
   "display_name": "Python 3 (ipykernel)",
   "language": "python",
   "name": "python3"
  },
  "language_info": {
   "codemirror_mode": {
    "name": "ipython",
    "version": 3
   },
   "file_extension": ".py",
   "mimetype": "text/x-python",
   "name": "python",
   "nbconvert_exporter": "python",
   "pygments_lexer": "ipython3",
   "version": "3.9.12"
  }
 },
 "nbformat": 4,
 "nbformat_minor": 5
}
