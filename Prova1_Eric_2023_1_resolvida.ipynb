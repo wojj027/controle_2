{
 "cells": [
  {
   "cell_type": "code",
   "execution_count": 45,
   "id": "7d2d160f",
   "metadata": {},
   "outputs": [],
   "source": [
    "from numpy import linspace, arange, zeros\n",
    "from control import c2d, tf\n",
    "import matplotlib.pyplot as plt\n",
    "import numpy as np\n",
    "import cmath\n",
    "import math\n",
    "import control\n",
    "import control.matlab\n",
    "from sympy import *\n",
    "from lcapy import z"
   ]
  },
  {
   "cell_type": "markdown",
   "id": "a0888a0e",
   "metadata": {},
   "source": [
    "### Aluno: Eric Monteiro dos Reis"
   ]
  },
  {
   "cell_type": "markdown",
   "id": "b2bf2339",
   "metadata": {},
   "source": [
    "### Questao 1"
   ]
  },
  {
   "cell_type": "code",
   "execution_count": 3,
   "id": "5a0b1687",
   "metadata": {},
   "outputs": [
    {
     "name": "stdout",
     "output_type": "stream",
     "text": [
      "Gz = \n",
      " \n",
      "z - 0.7838\n",
      "----------\n",
      "z - 0.1353\n",
      "\n",
      "dt = 0.5\n",
      "\n"
     ]
    }
   ],
   "source": [
    "T = 0.5\n",
    "Gs = tf([1,1], [1, 4])\n",
    "Gz = c2d(Gs, T)\n",
    "print('Gz = \\n', Gz)"
   ]
  },
  {
   "cell_type": "code",
   "execution_count": 4,
   "id": "4eb37125",
   "metadata": {
    "scrolled": true
   },
   "outputs": [
    {
     "name": "stdout",
     "output_type": "stream",
     "text": [
      "Hz = \n",
      " \n",
      "  0.5742 z - 0.3581\n",
      "----------------------\n",
      "z^2 - 1.135 z + 0.1353\n",
      "\n",
      "dt = 0.5\n",
      "\n"
     ]
    }
   ],
   "source": [
    "GHs = tf([2,2],[1,4,0])\n",
    "GHz = c2d(GHs, T)\n",
    "print('Hz = \\n', GHz)"
   ]
  },
  {
   "cell_type": "code",
   "execution_count": 5,
   "id": "f4a76e81",
   "metadata": {
    "scrolled": false
   },
   "outputs": [
    {
     "data": {
      "text/plain": [
       "[<matplotlib.lines.Line2D at 0x7f6a3cdd29a0>]"
      ]
     },
     "execution_count": 5,
     "metadata": {},
     "output_type": "execute_result"
    },
    {
     "data": {
      "image/png": "[encoded data removed]",
      "text/plain": [
       "<Figure size 640x480 with 1 Axes>"
      ]
     },
     "metadata": {},
     "output_type": "display_data"
    }
   ],
   "source": [
    "kmax = 25\n",
    "\n",
    "t = T*arange(0,kmax)\n",
    "r = T*arange(0,kmax)\n",
    "\n",
    "c = np.zeros(kmax)\n",
    "v = np.zeros(kmax)\n",
    "e = np.zeros(kmax)\n",
    "\n",
    "k = 1\n",
    "\n",
    "v[k] = 0.5742*e[k-1] + 1.135*v[k-1] \n",
    "e[k] = r[k] - v[k]\n",
    "c[k] = e[k] - 0.7838*e[k-1] + 0.1353*c[k-1]\n",
    "\n",
    "for k in range(2, kmax):\n",
    "    v[k] = 0.5742*e[k-1] - 0.3581*e[k-2] + 1.135*v[k-1] - 0.1353*v[k-2]\n",
    "    e[k] = r[k] - v[k]\n",
    "    c[k] = e[k] - 0.7838*e[k-1] + 0.1353*c[k-1]\n",
    "    \n",
    "\n",
    "plt.plot(t,c, ds='steps-post')\n"
   ]
  },
  {
   "cell_type": "markdown",
   "id": "ff5de4df",
   "metadata": {},
   "source": [
    "### Questao 2"
   ]
  },
  {
   "cell_type": "markdown",
   "id": "2b90a4ad",
   "metadata": {},
   "source": [
    "Letra A"
   ]
  },
  {
   "cell_type": "code",
   "execution_count": 6,
   "id": "16d2146d",
   "metadata": {
    "scrolled": true
   },
   "outputs": [
    {
     "name": "stdout",
     "output_type": "stream",
     "text": [
      "Az = \n",
      " \n",
      " 0.01758 z + 0.01539\n",
      "---------------------\n",
      "z^2 - 1.67 z + 0.6703\n",
      "\n",
      "dt = 0.2\n",
      "\n"
     ]
    },
    {
     "data": {
      "text/plain": [
       "array([1.        +0.j, 0.67032005+0.j])"
      ]
     },
     "execution_count": 6,
     "metadata": {},
     "output_type": "execute_result"
    }
   ],
   "source": [
    "T = 0.2\n",
    "\n",
    "A = tf(1, [1, 2, 0])\n",
    "\n",
    "Az = c2d(A, T)\n",
    "\n",
    "print('Az = \\n', Az)\n",
    "\n",
    "control.poles(Az)"
   ]
  },
  {
   "cell_type": "code",
   "execution_count": 7,
   "id": "dbbc55be",
   "metadata": {},
   "outputs": [
    {
     "name": "stdout",
     "output_type": "stream",
     "text": [
      "angulo de Z: 0.3666060555964672\n",
      "modulo de Z: 0.8521437889662113\n",
      "Z na forma retangular: (0.795518217452992+0.3054501641415585j)\n"
     ]
    }
   ],
   "source": [
    "T = 0.2\n",
    "zeta = 0.4\n",
    "wn = 2\n",
    "\n",
    "z_ang = T*wn*np.sqrt(1-(zeta**2))\n",
    "\n",
    "print(f'angulo de Z: {z_ang}')\n",
    "\n",
    "z_mod = np.exp(-T*zeta*wn)\n",
    "print(f'modulo de Z: {z_mod}')\n",
    "\n",
    "z_rect = cmath.rect(z_mod, z_ang)\n",
    "print(f'Z na forma retangular: {z_rect}')\n",
    "\n"
   ]
  },
  {
   "cell_type": "code",
   "execution_count": 8,
   "id": "2a71ac92",
   "metadata": {
    "scrolled": true
   },
   "outputs": [
    {
     "name": "stdout",
     "output_type": "stream",
     "text": [
      "\n",
      "0.01758 z + 0.01539\n",
      "-------------------\n",
      "       z - 1\n",
      "\n",
      "dt = 0.2\n",
      "\n"
     ]
    }
   ],
   "source": [
    "# G2 foi calculado no papel\n",
    "G2z = tf([0.01758, 0.01539], [1,-1], T)\n",
    "print(G2z)"
   ]
  },
  {
   "cell_type": "code",
   "execution_count": 39,
   "id": "0dc670af",
   "metadata": {
    "scrolled": true
   },
   "outputs": [
    {
     "name": "stdout",
     "output_type": "stream",
     "text": [
      "angulo em radianos: 5.121507322083493\n",
      "angulo em graus: 293.44075430073246\n"
     ]
    }
   ],
   "source": [
    "angle_g1 = np.pi - cmath.phase(G2z(z_rect))\n",
    "new_angle = angle_g1/2\n",
    "print(f'angulo em radianos: {angle_g1}')\n",
    "angle_degrees = math.degrees(angle_g1)\n",
    "print(f'angulo em graus: {angle_degrees}')"
   ]
  },
  {
   "cell_type": "code",
   "execution_count": 40,
   "id": "79a83a37",
   "metadata": {},
   "outputs": [
    {
     "data": {
      "text/plain": [
       "2.5607536610417463"
      ]
     },
     "execution_count": 40,
     "metadata": {},
     "output_type": "execute_result"
    }
   ],
   "source": [
    "new_angle"
   ]
  },
  {
   "cell_type": "code",
   "execution_count": 41,
   "id": "2f4734c8",
   "metadata": {
    "scrolled": false
   },
   "outputs": [
    {
     "name": "stdout",
     "output_type": "stream",
     "text": [
      "beta =  -0.33015419183590894\n"
     ]
    }
   ],
   "source": [
    "beta = (z_rect.imag - (z_rect.real*math.tan(-new_angle)))/math.tan(-new_angle)\n",
    "print('beta = ', beta)"
   ]
  },
  {
   "cell_type": "markdown",
   "id": "fcbae9ab",
   "metadata": {},
   "source": [
    "Modificando o beta para calcularmos o erro da questão 2b"
   ]
  },
  {
   "cell_type": "code",
   "execution_count": 57,
   "id": "e40449b2",
   "metadata": {},
   "outputs": [],
   "source": [
    "beta = 0.25"
   ]
  },
  {
   "cell_type": "code",
   "execution_count": 58,
   "id": "1cb3b469",
   "metadata": {
    "scrolled": true
   },
   "outputs": [
    {
     "name": "stdout",
     "output_type": "stream",
     "text": [
      "\n",
      "   1\n",
      "--------\n",
      "z + 0.25\n",
      "\n",
      "dt = 0.2\n",
      "\n"
     ]
    }
   ],
   "source": [
    "G1z = tf([1],[1, beta],T)\n",
    "print(G1z)"
   ]
  },
  {
   "cell_type": "code",
   "execution_count": 59,
   "id": "979cefa8",
   "metadata": {},
   "outputs": [
    {
     "name": "stdout",
     "output_type": "stream",
     "text": [
      "\n",
      "   1\n",
      "--------\n",
      "z + 0.25\n",
      "\n",
      "dt = 0.2\n",
      "\n"
     ]
    }
   ],
   "source": [
    "G1z = tf([1],[1, beta],T)\n",
    "print(G1z)"
   ]
  },
  {
   "cell_type": "code",
   "execution_count": 60,
   "id": "c594114b",
   "metadata": {},
   "outputs": [
    {
     "name": "stdout",
     "output_type": "stream",
     "text": [
      "\n",
      "0.01758 z + 0.01539\n",
      "-------------------\n",
      "z^2 - 0.75 z - 0.25\n",
      "\n",
      "dt = 0.2\n",
      "\n"
     ]
    }
   ],
   "source": [
    "FTMA = G1z * G2z\n",
    "print(FTMA)"
   ]
  },
  {
   "cell_type": "code",
   "execution_count": 15,
   "id": "7fcca355",
   "metadata": {
    "scrolled": true
   },
   "outputs": [
    {
     "name": "stdout",
     "output_type": "stream",
     "text": [
      "6.851955251667097\n"
     ]
    }
   ],
   "source": [
    "Kc = 1/np.abs(FTMA(z_rect))\n",
    "print(Kc)"
   ]
  },
  {
   "cell_type": "markdown",
   "id": "7e75d894",
   "metadata": {},
   "source": [
    "Letra B"
   ]
  },
  {
   "cell_type": "code",
   "execution_count": 63,
   "id": "b3de372e",
   "metadata": {
    "scrolled": true
   },
   "outputs": [
    {
     "data": {
      "image/png": "[encoded data removed]",
      "text/latex": [
       "$\\displaystyle \\frac{5.0 \\cdot \\left(1 - \\frac{1}{z}\\right) \\left(0.01758 z + 0.01539\\right)}{z^{2} - 0.75 z - 0.25}$"
      ],
      "text/plain": [
       "    ⎛    1⎞                      \n",
       "5.0⋅⎜1 - ─⎟⋅(0.01758⋅z + 0.01539)\n",
       "    ⎝    z⎠                      \n",
       "─────────────────────────────────\n",
       "         2                       \n",
       "        z  - 0.75⋅z - 0.25       "
      ]
     },
     "execution_count": 63,
     "metadata": {},
     "output_type": "execute_result"
    }
   ],
   "source": [
    "z = Symbol('z')\n",
    "f = (((0.01758*z + 0.01539) /(z**2 - 0.75*z - 0.25)) * (1 - z**-1))/T\n",
    "f"
   ]
  },
  {
   "cell_type": "code",
   "execution_count": 65,
   "id": "52d3dd40",
   "metadata": {
    "scrolled": false
   },
   "outputs": [
    {
     "data": {
      "image/png": "[encoded data removed]",
      "text/latex": [
       "$\\displaystyle \\frac{3297}{25000}$"
      ],
      "text/plain": [
       " 3297\n",
       "─────\n",
       "25000"
      ]
     },
     "execution_count": 65,
     "metadata": {},
     "output_type": "execute_result"
    }
   ],
   "source": [
    "limit(f,z,1)"
   ]
  },
  {
   "cell_type": "code",
   "execution_count": 67,
   "id": "40f8f6ca",
   "metadata": {},
   "outputs": [],
   "source": [
    "kv = 3297/25000"
   ]
  },
  {
   "cell_type": "markdown",
   "id": "ecd87298",
   "metadata": {},
   "source": [
    "Como queremos calcular o valor do Kc para um erro de regime permanente de 2, teremos ess = 1/(kv*kc) -> 2 = 1/(0.13188*kc)"
   ]
  },
  {
   "cell_type": "code",
   "execution_count": 69,
   "id": "b1d1404a",
   "metadata": {},
   "outputs": [
    {
     "name": "stdout",
     "output_type": "stream",
     "text": [
      "3.791325447376403\n"
     ]
    }
   ],
   "source": [
    "kc = 1/(2*kv)\n",
    "print(kc)"
   ]
  },
  {
   "cell_type": "code",
   "execution_count": null,
   "id": "f85b0604",
   "metadata": {},
   "outputs": [],
   "source": []
  }
 ],
 "metadata": {
  "kernelspec": {
   "display_name": "Python 3 (ipykernel)",
   "language": "python",
   "name": "python3"
  },
  "language_info": {
   "codemirror_mode": {
    "name": "ipython",
    "version": 3
   },
   "file_extension": ".py",
   "mimetype": "text/x-python",
   "name": "python",
   "nbconvert_exporter": "python",
   "pygments_lexer": "ipython3",
   "version": "3.8.10"
  }
 },
 "nbformat": 4,
 "nbformat_minor": 5
}
