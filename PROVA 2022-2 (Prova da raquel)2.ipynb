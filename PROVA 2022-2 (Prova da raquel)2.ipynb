{
 "cells": [
  {
   "cell_type": "code",
   "execution_count": 83,
   "id": "7d2d160f",
   "metadata": {},
   "outputs": [],
   "source": [
    "from numpy import linspace, arange, zeros\n",
    "from control import c2d, tf\n",
    "import matplotlib.pyplot as plt\n",
    "import numpy as np\n",
    "import cmath\n",
    "import math\n",
    "import control\n",
    "import control.matlab\n"
   ]
  },
  {
   "cell_type": "markdown",
   "id": "b2bf2339",
   "metadata": {},
   "source": [
    "### Questao 1"
   ]
  },
  {
   "cell_type": "code",
   "execution_count": 2,
   "id": "5a0b1687",
   "metadata": {},
   "outputs": [
    {
     "name": "stdout",
     "output_type": "stream",
     "text": [
      "Gz = \n",
      " \n",
      "  1.264\n",
      "----------\n",
      "z - 0.3679\n",
      "\n",
      "dt = 0.2\n",
      "\n"
     ]
    }
   ],
   "source": [
    "T = 0.2\n",
    "\n",
    "Gs = tf(10, [1, 5])\n",
    "\n",
    "Gz = c2d(Gs, T)\n",
    "\n",
    "print('Gz = \\n', Gz)"
   ]
  },
  {
   "cell_type": "code",
   "execution_count": 4,
   "id": "4eb37125",
   "metadata": {},
   "outputs": [
    {
     "name": "stdout",
     "output_type": "stream",
     "text": [
      "Hz = \n",
      " \n",
      " 0.2\n",
      "-----\n",
      "z - 1\n",
      "\n",
      "dt = 0.2\n",
      "\n"
     ]
    }
   ],
   "source": [
    "Hs = tf(1,[1,0])\n",
    "\n",
    "Hz = c2d(Hs, T)\n",
    "\n",
    "print('Hz = \\n', Hz)"
   ]
  },
  {
   "cell_type": "code",
   "execution_count": 5,
   "id": "2b7d5fa9",
   "metadata": {
    "scrolled": false
   },
   "outputs": [
    {
     "name": "stdout",
     "output_type": "stream",
     "text": [
      "Fz = \n",
      " \n",
      "  0.1377\n",
      "----------\n",
      "z - 0.4493\n",
      "\n",
      "dt = 0.2\n",
      "\n"
     ]
    }
   ],
   "source": [
    "Fs = tf(1, [1, 4])\n",
    "\n",
    "Fz = c2d(Fs, T)\n",
    "\n",
    "print('Fz = \\n', Fz)"
   ]
  },
  {
   "cell_type": "markdown",
   "id": "915b6f5b",
   "metadata": {},
   "source": [
    "## Bloco das equacoes recursivas"
   ]
  },
  {
   "cell_type": "code",
   "execution_count": 18,
   "id": "f4a76e81",
   "metadata": {
    "scrolled": true
   },
   "outputs": [
    {
     "data": {
      "text/plain": [
       "[<matplotlib.lines.Line2D at 0x17bbeedb850>]"
      ]
     },
     "execution_count": 18,
     "metadata": {},
     "output_type": "execute_result"
    },
    {
     "data": {
      "image/png": "[encoded data removed]",
      "text/plain": [
       "<Figure size 432x288 with 1 Axes>"
      ]
     },
     "metadata": {
      "needs_background": "light"
     },
     "output_type": "display_data"
    }
   ],
   "source": [
    "#Equacoes recursivas \n",
    "\n",
    "#G\n",
    "#c[k] = 1.264*e[k-1] + 0.3679*c[k-1]\n",
    "\n",
    "#H\n",
    "#v[k] = 0.2*c[k-1] + v[k-1]\n",
    "\n",
    "#F\n",
    "#x[k] = 0,1377*r[k-1] + 0.4493*x[k-1]\n",
    "\n",
    "#e = x - v\n",
    "\n",
    "kmax = 50\n",
    "\n",
    "# Para entrada degrau unitario: np.ones(kmax)\n",
    "# Para entrada rampa unitario: T*arange(0,kmax) \n",
    "t = T*arange(0,kmax)\n",
    "r = T*arange(0,kmax)\n",
    "\n",
    "c = np.zeros(kmax)\n",
    "v = np.zeros(kmax)\n",
    "x = np.zeros(kmax)\n",
    "e = np.zeros(kmax)\n",
    "\n",
    "for k in range(1, kmax):\n",
    "    c[k] = 1.264*e[k-1] + 0.3679*c[k-1]\n",
    "    v[k] =0.2*c[k-1] + v[k-1]\n",
    "    x[k] = 0.1377*r[k-1] + 0.4493*x[k-1]\n",
    "    e[k] = x[k] - v[k]\n",
    "    \n",
    "# para mostrar por steps\n",
    "plt.plot(t,c, ds='steps-post')\n",
    "\n",
    "#para mostrar em tempo continuo\n",
    "#plt.plot(t,c)\n"
   ]
  },
  {
   "cell_type": "markdown",
   "id": "ff5de4df",
   "metadata": {},
   "source": [
    "### Questao 2"
   ]
  },
  {
   "cell_type": "code",
   "execution_count": 60,
   "id": "5ecb3c0b",
   "metadata": {},
   "outputs": [
    {
     "name": "stdout",
     "output_type": "stream",
     "text": [
      "Fz = \n",
      " \n",
      "  0.1055\n",
      "----------\n",
      "z - 0.4724\n",
      "\n",
      "dt = 0.15\n",
      "\n"
     ]
    }
   ],
   "source": [
    "# Chamaremos de bloco F o bloco com 1/(s+5)\n",
    "T = 0.15\n",
    "\n",
    "F = tf(1, [1, 5])\n",
    "\n",
    "Fz = c2d(F, T)\n",
    "\n",
    "print('Fz = \\n', Fz)"
   ]
  },
  {
   "cell_type": "code",
   "execution_count": 61,
   "id": "dbbc55be",
   "metadata": {},
   "outputs": [
    {
     "name": "stdout",
     "output_type": "stream",
     "text": [
      "angulo de Z: 0.48\n",
      "modulo de Z: 0.697676326071031\n",
      "Z na forma retangular: (0.6188353589683089+0.32217239864789143j)\n"
     ]
    }
   ],
   "source": [
    "#Parametros de entrada\n",
    "T = 0.15\n",
    "zeta = 0.6\n",
    "wn = 4\n",
    "\n",
    "z_ang = T*wn*np.sqrt(1-(zeta**2))\n",
    "print(f'angulo de Z: {z_ang}')\n",
    "\n",
    "z_mod = np.exp(-T*zeta*wn)\n",
    "print(f'modulo de Z: {z_mod}')\n",
    "\n",
    "#transformando agora para retagunlar\n",
    "z_rect = cmath.rect(z_mod, z_ang)\n",
    "print(f'Z na forma retangular: {z_rect}')\n",
    "\n"
   ]
  },
  {
   "cell_type": "code",
   "execution_count": 62,
   "id": "007a68a9",
   "metadata": {},
   "outputs": [],
   "source": [
    "# Calculando no papel vimos que como alpha cancela o polo, ele tera de ser -0,4493\n",
    "alpha = -0.4724"
   ]
  },
  {
   "cell_type": "code",
   "execution_count": 64,
   "id": "2a71ac92",
   "metadata": {
    "scrolled": true
   },
   "outputs": [
    {
     "name": "stdout",
     "output_type": "stream",
     "text": [
      "\n",
      "0.1055\n",
      "------\n",
      "z - 1\n",
      "\n",
      "dt = 0.15\n",
      "\n"
     ]
    }
   ],
   "source": [
    "# G2 foi calculado no papel\n",
    "G2z = tf([0.1055],[1,-1],T)\n",
    "print(G2z)"
   ]
  },
  {
   "cell_type": "code",
   "execution_count": 65,
   "id": "0dc670af",
   "metadata": {},
   "outputs": [
    {
     "name": "stdout",
     "output_type": "stream",
     "text": [
      "angulo em radianos: -0.70171923898726\n",
      "angulo em graus: -40.20555079710197\n"
     ]
    }
   ],
   "source": [
    "# Calculando o angulo para G1 passando o angulo z_rect que calculamos no sistema de G2 e fazendo G2 \n",
    "# menos 180 graus conseguimos calcular a contribuicao de fase de G2 e do G1\n",
    "angle_g1 = -np.pi - cmath.phase(G2z(z_rect))\n",
    "print(f'angulo em radianos: {angle_g1}')\n",
    "angle_degrees = math.degrees(angle_g1)\n",
    "print(f'angulo em graus: {angle_degrees}')"
   ]
  },
  {
   "cell_type": "code",
   "execution_count": 66,
   "id": "2f4734c8",
   "metadata": {},
   "outputs": [
    {
     "name": "stdout",
     "output_type": "stream",
     "text": [
      "beta formula prof =  -0.29666296032041745\n"
     ]
    }
   ],
   "source": [
    "beta = (z_rect.imag - (z_rect.real*math.tan(angle))/math.tan(angle))\n",
    "print('beta formula prof = ', beta)"
   ]
  },
  {
   "cell_type": "code",
   "execution_count": 75,
   "id": "1cb3b469",
   "metadata": {},
   "outputs": [
    {
     "name": "stdout",
     "output_type": "stream",
     "text": [
      "\n",
      "    1\n",
      "----------\n",
      "z - 0.2966\n",
      "\n",
      "dt = 0.15\n",
      "\n"
     ]
    }
   ],
   "source": [
    "G1z = tf([1],[1,-0.2966],T)\n",
    "print(G1z)"
   ]
  },
  {
   "cell_type": "code",
   "execution_count": 76,
   "id": "c594114b",
   "metadata": {},
   "outputs": [],
   "source": [
    "FTMA = G1z * G2z"
   ]
  },
  {
   "cell_type": "code",
   "execution_count": 77,
   "id": "7fcca355",
   "metadata": {},
   "outputs": [
    {
     "name": "stdout",
     "output_type": "stream",
     "text": [
      "2.155579645089522\n"
     ]
    }
   ],
   "source": [
    "Kc = 1/np.abs(FTMA(z_rect))\n",
    "print(Kc)"
   ]
  },
  {
   "cell_type": "code",
   "execution_count": 78,
   "id": "a85fac2d",
   "metadata": {},
   "outputs": [
    {
     "name": "stdout",
     "output_type": "stream",
     "text": [
      "Resultados finais: \n",
      "\n",
      "Kc = 2.155579645089522\n",
      "Alpha = -0.4724\n",
      "Beta2 = -0.29666296032041745\n"
     ]
    }
   ],
   "source": [
    "# Resultados finais\n",
    "print('Resultados finais: \\n')\n",
    "print(f'Kc = {Kc}')\n",
    "print(f'Alpha = {alpha}')\n",
    "print(f'Beta2 = {beta}')"
   ]
  },
  {
   "cell_type": "code",
   "execution_count": 98,
   "id": "ddc9c356",
   "metadata": {},
   "outputs": [
    {
     "data": {
      "image/png": "[encoded data removed]",
      "text/plain": [
       "<Figure size 432x288 with 1 Axes>"
      ]
     },
     "metadata": {
      "needs_background": "light"
     },
     "output_type": "display_data"
    }
   ],
   "source": [
    "#Para calcular o lugar das raizes (rlocus) passamos na entrada a FTMA e o ganho Kc\n",
    "control.matlab.rlocus(FTMA, [Kc])\n",
    "plt.plot(z_rect.real, z_rect.imag, 'xr')\n",
    "plt.xlim(-1,1)\n",
    "plt.ylim(-1.2,1.2)\n",
    "plt.show()\n"
   ]
  },
  {
   "cell_type": "code",
   "execution_count": null,
   "id": "ff96238c",
   "metadata": {},
   "outputs": [],
   "source": []
  }
 ],
 "metadata": {
  "kernelspec": {
   "display_name": "Python 3 (ipykernel)",
   "language": "python",
   "name": "python3"
  },
  "language_info": {
   "codemirror_mode": {
    "name": "ipython",
    "version": 3
   },
   "file_extension": ".py",
   "mimetype": "text/x-python",
   "name": "python",
   "nbconvert_exporter": "python",
   "pygments_lexer": "ipython3",
   "version": "3.9.7"
  }
 },
 "nbformat": 4,
 "nbformat_minor": 5
}
